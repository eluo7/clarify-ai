{
 "cells": [
  {
   "cell_type": "markdown",
   "metadata": {},
   "source": [
    "# Clarify AI - 信贷评分模型可解释性演示\n",
    "\n",
    "这个notebook演示了如何使用Clarify AI来解释信贷评分模型的决策过程。\n",
    "\n",
    "## 目标\n",
    "- 创建一个模拟的信贷数据集\n",
    "- 训练一个随机森林分类器\n",
    "- 使用SHAP进行模型解释\n",
    "- 生成业务友好的解释报告"
   ]
  },
  {
   "cell_type": "markdown",
   "metadata": {},
   "source": [
    "## 1. 导入必要的库"
   ]
  },
  {
   "cell_type": "code",
   "execution_count": 1,
   "metadata": {},
   "outputs": [
    {
     "name": "stdout",
     "output_type": "stream",
     "text": [
      "已设置中文字体: Arial Unicode MS\n",
      "✅ 所有库导入成功！\n"
     ]
    }
   ],
   "source": [
    "import os\n",
    "import pandas as pd\n",
    "import numpy as np\n",
    "from sklearn.ensemble import RandomForestClassifier\n",
    "from sklearn.model_selection import train_test_split\n",
    "from sklearn.datasets import make_classification\n",
    "import matplotlib.pyplot as plt\n",
    "import warnings\n",
    "warnings.filterwarnings('ignore')\n",
    "\n",
    "# 设置字体支持\n",
    "try:\n",
    "    # plt.rcParams['font.sans-serif'] = ['Arial']  # 使用通用字体\n",
    "    plt.rcParams['font.sans-serif'] = ['SimHei', 'Microsoft YaHei', 'DejaVu Sans']  # 黑体、微软雅黑\n",
    "    plt.rcParams['axes.unicode_minus'] = False  # 用来正常显示负号\n",
    "except:\n",
    "    pass\n",
    "\n",
    "# 导入我们的解释器\n",
    "from clarify_ai import ModelExplainer\n",
    "\n",
    "print(\"✅ 所有库导入成功！\")"
   ]
  },
  {
   "cell_type": "markdown",
   "metadata": {},
   "source": [
    "## 2. 创建模拟信贷数据集\n",
    "\n",
    "我们将创建一个包含10个特征的模拟信贷数据集，这些特征模拟了真实的信贷申请场景。"
   ]
  },
  {
   "cell_type": "code",
   "execution_count": 2,
   "metadata": {},
   "outputs": [
    {
     "name": "stdout",
     "output_type": "stream",
     "text": [
      "✅ 数据集创建成功！\n",
      "数据集形状: (1000, 10)\n",
      "目标变量分布: [497 503]\n",
      "\n",
      "前5行数据:\n"
     ]
    },
    {
     "data": {
      "text/html": [
       "<div>\n",
       "<style scoped>\n",
       "    .dataframe tbody tr th:only-of-type {\n",
       "        vertical-align: middle;\n",
       "    }\n",
       "\n",
       "    .dataframe tbody tr th {\n",
       "        vertical-align: top;\n",
       "    }\n",
       "\n",
       "    .dataframe thead th {\n",
       "        text-align: right;\n",
       "    }\n",
       "</style>\n",
       "<table border=\"1\" class=\"dataframe\">\n",
       "  <thead>\n",
       "    <tr style=\"text-align: right;\">\n",
       "      <th></th>\n",
       "      <th>月收入</th>\n",
       "      <th>年龄</th>\n",
       "      <th>工作年限</th>\n",
       "      <th>负债比例</th>\n",
       "      <th>信用记录长度</th>\n",
       "      <th>历史逾期次数</th>\n",
       "      <th>贷款金额</th>\n",
       "      <th>房产价值</th>\n",
       "      <th>教育水平</th>\n",
       "      <th>婚姻状态</th>\n",
       "    </tr>\n",
       "  </thead>\n",
       "  <tbody>\n",
       "    <tr>\n",
       "      <th>0</th>\n",
       "      <td>13625.501940</td>\n",
       "      <td>48.562477</td>\n",
       "      <td>4.948128</td>\n",
       "      <td>0.516352</td>\n",
       "      <td>-2.071389</td>\n",
       "      <td>4.0</td>\n",
       "      <td>383903.017810</td>\n",
       "      <td>1.857325e+06</td>\n",
       "      <td>4.0</td>\n",
       "      <td>-2.0</td>\n",
       "    </tr>\n",
       "    <tr>\n",
       "      <th>1</th>\n",
       "      <td>5176.795722</td>\n",
       "      <td>97.772582</td>\n",
       "      <td>-11.179318</td>\n",
       "      <td>-0.416682</td>\n",
       "      <td>9.083486</td>\n",
       "      <td>14.0</td>\n",
       "      <td>738058.438991</td>\n",
       "      <td>-3.902544e+05</td>\n",
       "      <td>5.0</td>\n",
       "      <td>-4.0</td>\n",
       "    </tr>\n",
       "    <tr>\n",
       "      <th>2</th>\n",
       "      <td>10581.564256</td>\n",
       "      <td>68.308527</td>\n",
       "      <td>-4.027886</td>\n",
       "      <td>0.045231</td>\n",
       "      <td>3.462589</td>\n",
       "      <td>4.0</td>\n",
       "      <td>366580.914293</td>\n",
       "      <td>-1.458175e+06</td>\n",
       "      <td>-0.0</td>\n",
       "      <td>-2.0</td>\n",
       "    </tr>\n",
       "    <tr>\n",
       "      <th>3</th>\n",
       "      <td>10686.408638</td>\n",
       "      <td>44.332356</td>\n",
       "      <td>0.076638</td>\n",
       "      <td>0.468302</td>\n",
       "      <td>-3.792579</td>\n",
       "      <td>3.0</td>\n",
       "      <td>201637.125911</td>\n",
       "      <td>-5.344714e+05</td>\n",
       "      <td>-4.0</td>\n",
       "      <td>-2.0</td>\n",
       "    </tr>\n",
       "    <tr>\n",
       "      <th>4</th>\n",
       "      <td>9391.922538</td>\n",
       "      <td>46.316559</td>\n",
       "      <td>-12.799335</td>\n",
       "      <td>-0.694267</td>\n",
       "      <td>4.575537</td>\n",
       "      <td>2.0</td>\n",
       "      <td>-34823.770317</td>\n",
       "      <td>1.098330e+06</td>\n",
       "      <td>-1.0</td>\n",
       "      <td>1.0</td>\n",
       "    </tr>\n",
       "  </tbody>\n",
       "</table>\n",
       "</div>"
      ],
      "text/plain": [
       "            月收入         年龄       工作年限      负债比例    信用记录长度  历史逾期次数  \\\n",
       "0  13625.501940  48.562477   4.948128  0.516352 -2.071389     4.0   \n",
       "1   5176.795722  97.772582 -11.179318 -0.416682  9.083486    14.0   \n",
       "2  10581.564256  68.308527  -4.027886  0.045231  3.462589     4.0   \n",
       "3  10686.408638  44.332356   0.076638  0.468302 -3.792579     3.0   \n",
       "4   9391.922538  46.316559 -12.799335 -0.694267  4.575537     2.0   \n",
       "\n",
       "            贷款金额          房产价值  教育水平  婚姻状态  \n",
       "0  383903.017810  1.857325e+06   4.0  -2.0  \n",
       "1  738058.438991 -3.902544e+05   5.0  -4.0  \n",
       "2  366580.914293 -1.458175e+06  -0.0  -2.0  \n",
       "3  201637.125911 -5.344714e+05  -4.0  -2.0  \n",
       "4  -34823.770317  1.098330e+06  -1.0   1.0  "
      ]
     },
     "execution_count": 2,
     "metadata": {},
     "output_type": "execute_result"
    }
   ],
   "source": [
    "def create_credit_dataset(n_samples=1000):\n",
    "    \"\"\"创建模拟的信贷数据集\"\"\"\n",
    "    X, y = make_classification(\n",
    "        n_samples=n_samples, \n",
    "        n_features=10, \n",
    "        n_informative=5, \n",
    "        n_redundant=2,\n",
    "        random_state=42\n",
    "    )\n",
    "    \n",
    "    # 创建有意义的特征名称\n",
    "    feature_names = [\n",
    "        '月收入', '年龄', '工作年限', \n",
    "        '负债比例', '信用记录长度', \n",
    "        '历史逾期次数', '贷款金额', \n",
    "        '房产价值', '教育水平', '婚姻状态'\n",
    "    ]\n",
    "    \n",
    "    # 转换为DataFrame\n",
    "    X_df = pd.DataFrame(X, columns=feature_names)\n",
    "    \n",
    "    # 调整数据范围使其更符合实际\n",
    "    X_df['月收入'] = X_df['月收入'] * 5000 + 8000  # 3000-13000\n",
    "    X_df['年龄'] = X_df['年龄'] * 20 + 25  # 20-45岁\n",
    "    X_df['工作年限'] = X_df['工作年限'] * 8 + 1  # 1-9年\n",
    "    X_df['负债比例'] = X_df['负债比例'] * 0.4 + 0.2  # 20%-60%\n",
    "    X_df['信用记录长度'] = X_df['信用记录长度'] * 5 + 1  # 1-6年\n",
    "    X_df['历史逾期次数'] = np.round(X_df['历史逾期次数'] * 3)  # 0-3次\n",
    "    X_df['贷款金额'] = X_df['贷款金额'] * 200000 + 100000  # 10-30万\n",
    "    X_df['房产价值'] = X_df['房产价值'] * 1000000 + 500000  # 50-150万\n",
    "    X_df['教育水平'] = np.round(X_df['教育水平'] * 3 + 1)  # 1-4 (高中、大专、本科、研究生)\n",
    "    X_df['婚姻状态'] = np.round(X_df['婚姻状态'])  # 0-1 (未婚、已婚)\n",
    "    \n",
    "    return X_df, y\n",
    "\n",
    "# 创建数据集\n",
    "X, y = create_credit_dataset()\n",
    "\n",
    "print(f\"✅ 数据集创建成功！\")\n",
    "print(f\"数据集形状: {X.shape}\")\n",
    "print(f\"目标变量分布: {np.bincount(y)}\")\n",
    "print(f\"\\n前5行数据:\")\n",
    "X.head()"
   ]
  },
  {
   "cell_type": "markdown",
   "metadata": {},
   "source": [
    "## 3. 数据集基本统计信息"
   ]
  },
  {
   "cell_type": "code",
   "execution_count": 3,
   "metadata": {},
   "outputs": [
    {
     "name": "stdout",
     "output_type": "stream",
     "text": [
      "📊 数据集基本统计信息:\n"
     ]
    },
    {
     "data": {
      "text/html": [
       "<div>\n",
       "<style scoped>\n",
       "    .dataframe tbody tr th:only-of-type {\n",
       "        vertical-align: middle;\n",
       "    }\n",
       "\n",
       "    .dataframe tbody tr th {\n",
       "        vertical-align: top;\n",
       "    }\n",
       "\n",
       "    .dataframe thead th {\n",
       "        text-align: right;\n",
       "    }\n",
       "</style>\n",
       "<table border=\"1\" class=\"dataframe\">\n",
       "  <thead>\n",
       "    <tr style=\"text-align: right;\">\n",
       "      <th></th>\n",
       "      <th>月收入</th>\n",
       "      <th>年龄</th>\n",
       "      <th>工作年限</th>\n",
       "      <th>负债比例</th>\n",
       "      <th>信用记录长度</th>\n",
       "      <th>历史逾期次数</th>\n",
       "      <th>贷款金额</th>\n",
       "      <th>房产价值</th>\n",
       "      <th>教育水平</th>\n",
       "      <th>婚姻状态</th>\n",
       "    </tr>\n",
       "  </thead>\n",
       "  <tbody>\n",
       "    <tr>\n",
       "      <th>count</th>\n",
       "      <td>1000.000000</td>\n",
       "      <td>1000.000000</td>\n",
       "      <td>1000.000000</td>\n",
       "      <td>1000.000000</td>\n",
       "      <td>1000.000000</td>\n",
       "      <td>1000.000000</td>\n",
       "      <td>1.000000e+03</td>\n",
       "      <td>1.000000e+03</td>\n",
       "      <td>1000.00000</td>\n",
       "      <td>1000.000000</td>\n",
       "    </tr>\n",
       "    <tr>\n",
       "      <th>mean</th>\n",
       "      <td>10402.358953</td>\n",
       "      <td>24.779303</td>\n",
       "      <td>0.420993</td>\n",
       "      <td>0.003021</td>\n",
       "      <td>3.345293</td>\n",
       "      <td>1.491000</td>\n",
       "      <td>1.911701e+05</td>\n",
       "      <td>5.171149e+05</td>\n",
       "      <td>0.82500</td>\n",
       "      <td>0.613000</td>\n",
       "    </tr>\n",
       "    <tr>\n",
       "      <th>std</th>\n",
       "      <td>7919.043906</td>\n",
       "      <td>32.370963</td>\n",
       "      <td>8.193566</td>\n",
       "      <td>0.607573</td>\n",
       "      <td>7.448884</td>\n",
       "      <td>4.875417</td>\n",
       "      <td>4.000324e+05</td>\n",
       "      <td>1.029048e+06</td>\n",
       "      <td>3.16803</td>\n",
       "      <td>2.829706</td>\n",
       "    </tr>\n",
       "    <tr>\n",
       "      <th>min</th>\n",
       "      <td>-15305.838024</td>\n",
       "      <td>-91.284066</td>\n",
       "      <td>-23.249551</td>\n",
       "      <td>-1.503214</td>\n",
       "      <td>-18.446421</td>\n",
       "      <td>-13.000000</td>\n",
       "      <td>-1.359613e+06</td>\n",
       "      <td>-2.754479e+06</td>\n",
       "      <td>-10.00000</td>\n",
       "      <td>-8.000000</td>\n",
       "    </tr>\n",
       "    <tr>\n",
       "      <th>25%</th>\n",
       "      <td>5288.922830</td>\n",
       "      <td>2.355755</td>\n",
       "      <td>-5.236254</td>\n",
       "      <td>-0.401633</td>\n",
       "      <td>-2.049777</td>\n",
       "      <td>-2.000000</td>\n",
       "      <td>-5.521973e+04</td>\n",
       "      <td>-1.766480e+05</td>\n",
       "      <td>-1.00000</td>\n",
       "      <td>-1.000000</td>\n",
       "    </tr>\n",
       "    <tr>\n",
       "      <th>50%</th>\n",
       "      <td>10916.805416</td>\n",
       "      <td>25.594936</td>\n",
       "      <td>0.664871</td>\n",
       "      <td>-0.104372</td>\n",
       "      <td>3.707805</td>\n",
       "      <td>1.000000</td>\n",
       "      <td>2.106446e+05</td>\n",
       "      <td>5.257716e+05</td>\n",
       "      <td>1.00000</td>\n",
       "      <td>1.000000</td>\n",
       "    </tr>\n",
       "    <tr>\n",
       "      <th>75%</th>\n",
       "      <td>15608.279460</td>\n",
       "      <td>46.544113</td>\n",
       "      <td>6.155551</td>\n",
       "      <td>0.292114</td>\n",
       "      <td>8.239377</td>\n",
       "      <td>5.000000</td>\n",
       "      <td>4.515878e+05</td>\n",
       "      <td>1.179153e+06</td>\n",
       "      <td>3.00000</td>\n",
       "      <td>2.000000</td>\n",
       "    </tr>\n",
       "    <tr>\n",
       "      <th>max</th>\n",
       "      <td>33330.306402</td>\n",
       "      <td>117.113373</td>\n",
       "      <td>27.211195</td>\n",
       "      <td>2.474277</td>\n",
       "      <td>31.183964</td>\n",
       "      <td>17.000000</td>\n",
       "      <td>1.591394e+06</td>\n",
       "      <td>3.589890e+06</td>\n",
       "      <td>10.00000</td>\n",
       "      <td>8.000000</td>\n",
       "    </tr>\n",
       "  </tbody>\n",
       "</table>\n",
       "</div>"
      ],
      "text/plain": [
       "                月收入           年龄         工作年限         负债比例       信用记录长度  \\\n",
       "count   1000.000000  1000.000000  1000.000000  1000.000000  1000.000000   \n",
       "mean   10402.358953    24.779303     0.420993     0.003021     3.345293   \n",
       "std     7919.043906    32.370963     8.193566     0.607573     7.448884   \n",
       "min   -15305.838024   -91.284066   -23.249551    -1.503214   -18.446421   \n",
       "25%     5288.922830     2.355755    -5.236254    -0.401633    -2.049777   \n",
       "50%    10916.805416    25.594936     0.664871    -0.104372     3.707805   \n",
       "75%    15608.279460    46.544113     6.155551     0.292114     8.239377   \n",
       "max    33330.306402   117.113373    27.211195     2.474277    31.183964   \n",
       "\n",
       "            历史逾期次数          贷款金额          房产价值        教育水平         婚姻状态  \n",
       "count  1000.000000  1.000000e+03  1.000000e+03  1000.00000  1000.000000  \n",
       "mean      1.491000  1.911701e+05  5.171149e+05     0.82500     0.613000  \n",
       "std       4.875417  4.000324e+05  1.029048e+06     3.16803     2.829706  \n",
       "min     -13.000000 -1.359613e+06 -2.754479e+06   -10.00000    -8.000000  \n",
       "25%      -2.000000 -5.521973e+04 -1.766480e+05    -1.00000    -1.000000  \n",
       "50%       1.000000  2.106446e+05  5.257716e+05     1.00000     1.000000  \n",
       "75%       5.000000  4.515878e+05  1.179153e+06     3.00000     2.000000  \n",
       "max      17.000000  1.591394e+06  3.589890e+06    10.00000     8.000000  "
      ]
     },
     "execution_count": 3,
     "metadata": {},
     "output_type": "execute_result"
    }
   ],
   "source": [
    "# 查看数据集的基本统计信息\n",
    "print(\"📊 数据集基本统计信息:\")\n",
    "X.describe()"
   ]
  },
  {
   "cell_type": "markdown",
   "metadata": {},
   "source": [
    "## 4. 特征描述字典\n",
    "\n",
    "为了生成更好的业务解释，我们定义每个特征的业务含义。"
   ]
  },
  {
   "cell_type": "code",
   "execution_count": 4,
   "metadata": {},
   "outputs": [
    {
     "name": "stdout",
     "output_type": "stream",
     "text": [
      "✅ 特征描述定义完成！\n",
      "  月收入: 申请人月收入(元)\n",
      "  年龄: 申请人年龄(岁)\n",
      "  工作年限: 当前工作持续时间(年)\n",
      "  负债比例: 月还款总额/月收入\n",
      "  信用记录长度: 信用历史长度(年)\n",
      "  历史逾期次数: 过去12个月内的逾期次数\n",
      "  贷款金额: 申请贷款金额(元)\n",
      "  房产价值: 申请人房产估值(元)\n",
      "  教育水平: 教育程度(1-高中,2-大专,3-本科,4-研究生)\n",
      "  婚姻状态: 婚姻状况(0-未婚,1-已婚)\n"
     ]
    }
   ],
   "source": [
    "# 特征描述字典\n",
    "feature_descriptions = {\n",
    "    '月收入': '申请人月收入(元)',\n",
    "    '年龄': '申请人年龄(岁)',\n",
    "    '工作年限': '当前工作持续时间(年)',\n",
    "    '负债比例': '月还款总额/月收入',\n",
    "    '信用记录长度': '信用历史长度(年)',\n",
    "    '历史逾期次数': '过去12个月内的逾期次数',\n",
    "    '贷款金额': '申请贷款金额(元)',\n",
    "    '房产价值': '申请人房产估值(元)',\n",
    "    '教育水平': '教育程度(1-高中,2-大专,3-本科,4-研究生)',\n",
    "    '婚姻状态': '婚姻状况(0-未婚,1-已婚)'\n",
    "}\n",
    "\n",
    "print(\"✅ 特征描述定义完成！\")\n",
    "for feature, desc in feature_descriptions.items():\n",
    "    print(f\"  {feature}: {desc}\")"
   ]
  },
  {
   "cell_type": "markdown",
   "metadata": {},
   "source": [
    "## 5. 数据集划分"
   ]
  },
  {
   "cell_type": "code",
   "execution_count": 5,
   "metadata": {},
   "outputs": [
    {
     "name": "stdout",
     "output_type": "stream",
     "text": [
      "✅ 数据集划分完成！\n",
      "训练集大小: (800, 10)\n",
      "测试集大小: (200, 10)\n",
      "训练集目标分布: [385 415]\n",
      "测试集目标分布: [112  88]\n"
     ]
    }
   ],
   "source": [
    "# 划分训练集和测试集\n",
    "X_train, X_test, y_train, y_test = train_test_split(X, y, test_size=0.2, random_state=42)\n",
    "\n",
    "print(f\"✅ 数据集划分完成！\")\n",
    "print(f\"训练集大小: {X_train.shape}\")\n",
    "print(f\"测试集大小: {X_test.shape}\")\n",
    "print(f\"训练集目标分布: {np.bincount(y_train)}\")\n",
    "print(f\"测试集目标分布: {np.bincount(y_test)}\")"
   ]
  },
  {
   "cell_type": "markdown",
   "metadata": {},
   "source": [
    "## 6. 模型训练"
   ]
  },
  {
   "cell_type": "code",
   "execution_count": 6,
   "metadata": {
    "scrolled": true
   },
   "outputs": [
    {
     "name": "stdout",
     "output_type": "stream",
     "text": [
      "✅ 模型训练完成！\n",
      "训练集准确率: 1.000\n",
      "测试集准确率: 0.955\n",
      "\n",
      "📊 模型内置特征重要性:\n"
     ]
    },
    {
     "data": {
      "text/html": [
       "<div>\n",
       "<style scoped>\n",
       "    .dataframe tbody tr th:only-of-type {\n",
       "        vertical-align: middle;\n",
       "    }\n",
       "\n",
       "    .dataframe tbody tr th {\n",
       "        vertical-align: top;\n",
       "    }\n",
       "\n",
       "    .dataframe thead th {\n",
       "        text-align: right;\n",
       "    }\n",
       "</style>\n",
       "<table border=\"1\" class=\"dataframe\">\n",
       "  <thead>\n",
       "    <tr style=\"text-align: right;\">\n",
       "      <th></th>\n",
       "      <th>feature</th>\n",
       "      <th>importance</th>\n",
       "    </tr>\n",
       "  </thead>\n",
       "  <tbody>\n",
       "    <tr>\n",
       "      <th>4</th>\n",
       "      <td>信用记录长度</td>\n",
       "      <td>0.219306</td>\n",
       "    </tr>\n",
       "    <tr>\n",
       "      <th>0</th>\n",
       "      <td>月收入</td>\n",
       "      <td>0.168160</td>\n",
       "    </tr>\n",
       "    <tr>\n",
       "      <th>9</th>\n",
       "      <td>婚姻状态</td>\n",
       "      <td>0.137223</td>\n",
       "    </tr>\n",
       "    <tr>\n",
       "      <th>5</th>\n",
       "      <td>历史逾期次数</td>\n",
       "      <td>0.127277</td>\n",
       "    </tr>\n",
       "    <tr>\n",
       "      <th>3</th>\n",
       "      <td>负债比例</td>\n",
       "      <td>0.127027</td>\n",
       "    </tr>\n",
       "    <tr>\n",
       "      <th>6</th>\n",
       "      <td>贷款金额</td>\n",
       "      <td>0.076695</td>\n",
       "    </tr>\n",
       "    <tr>\n",
       "      <th>1</th>\n",
       "      <td>年龄</td>\n",
       "      <td>0.069874</td>\n",
       "    </tr>\n",
       "    <tr>\n",
       "      <th>7</th>\n",
       "      <td>房产价值</td>\n",
       "      <td>0.026560</td>\n",
       "    </tr>\n",
       "    <tr>\n",
       "      <th>2</th>\n",
       "      <td>工作年限</td>\n",
       "      <td>0.025305</td>\n",
       "    </tr>\n",
       "    <tr>\n",
       "      <th>8</th>\n",
       "      <td>教育水平</td>\n",
       "      <td>0.022573</td>\n",
       "    </tr>\n",
       "  </tbody>\n",
       "</table>\n",
       "</div>"
      ],
      "text/plain": [
       "  feature  importance\n",
       "4  信用记录长度    0.219306\n",
       "0     月收入    0.168160\n",
       "9    婚姻状态    0.137223\n",
       "5  历史逾期次数    0.127277\n",
       "3    负债比例    0.127027\n",
       "6    贷款金额    0.076695\n",
       "1      年龄    0.069874\n",
       "7    房产价值    0.026560\n",
       "2    工作年限    0.025305\n",
       "8    教育水平    0.022573"
      ]
     },
     "execution_count": 6,
     "metadata": {},
     "output_type": "execute_result"
    }
   ],
   "source": [
    "# 训练随机森林模型\n",
    "model = RandomForestClassifier(n_estimators=100, random_state=42)\n",
    "model.fit(X_train, y_train)\n",
    "\n",
    "# 评估模型性能\n",
    "train_score = model.score(X_train, y_train)\n",
    "test_score = model.score(X_test, y_test)\n",
    "\n",
    "print(f\"✅ 模型训练完成！\")\n",
    "print(f\"训练集准确率: {train_score:.3f}\")\n",
    "print(f\"测试集准确率: {test_score:.3f}\")\n",
    "\n",
    "# 查看模型的特征重要性\n",
    "feature_importance = pd.DataFrame({\n",
    "    'feature': X.columns,\n",
    "    'importance': model.feature_importances_\n",
    "}).sort_values('importance', ascending=False)\n",
    "\n",
    "print(f\"\\n📊 模型内置特征重要性:\")\n",
    "feature_importance"
   ]
  },
  {
   "cell_type": "markdown",
   "metadata": {},
   "source": [
    "## 7. 初始化Clarify AI解释器"
   ]
  },
  {
   "cell_type": "code",
   "execution_count": 7,
   "metadata": {},
   "outputs": [
    {
     "name": "stdout",
     "output_type": "stream",
     "text": [
      "✅ Clarify AI解释器初始化成功！\n",
      "解释器类型: tree\n"
     ]
    }
   ],
   "source": [
    "# 初始化解释器\n",
    "explainer = ModelExplainer(\n",
    "    model=model,\n",
    "    X_train=X_train,\n",
    "    feature_descriptions=feature_descriptions,\n",
    "    output_dir=\"reports/credit_scoring\"\n",
    ")\n",
    "\n",
    "print(\"✅ Clarify AI解释器初始化成功！\")\n",
    "print(f\"解释器类型: {explainer.shap_explainer.explainer_type}\")"
   ]
  },
  {
   "cell_type": "markdown",
   "metadata": {},
   "source": [
    "## 8. 全局特征重要性分析\n",
    "\n",
    "使用SHAP计算全局特征重要性，这比模型内置的特征重要性更准确。"
   ]
  },
  {
   "cell_type": "code",
   "execution_count": 8,
   "metadata": {
    "scrolled": true
   },
   "outputs": [
    {
     "name": "stdout",
     "output_type": "stream",
     "text": [
      "🌍 SHAP全局特征重要性:\n",
      "信用记录长度: 0.1540\n",
      "历史逾期次数: 0.0954\n",
      "月收入: 0.0816\n",
      "婚姻状态: 0.0755\n",
      "负债比例: 0.0610\n",
      "贷款金额: 0.0282\n",
      "年龄: 0.0246\n",
      "教育水平: 0.0058\n",
      "工作年限: 0.0050\n",
      "房产价值: 0.0048\n"
     ]
    },
    {
     "data": {
      "image/png": "[encoded data removed]",
      "text/plain": [
       "<Figure size 1000x600 with 1 Axes>"
      ]
     },
     "metadata": {},
     "output_type": "display_data"
    }
   ],
   "source": [
    "# 获取全局特征重要性\n",
    "global_importance = explainer.get_global_importance(X_test)\n",
    "\n",
    "print(\"🌍 SHAP全局特征重要性:\")\n",
    "for feature, score in global_importance.items():\n",
    "    print(f\"{feature}: {score:.4f}\")\n",
    "\n",
    "# 可视化全局特征重要性\n",
    "plt.figure(figsize=(10, 6))\n",
    "features = list(global_importance.keys())\n",
    "scores = list(global_importance.values())\n",
    "\n",
    "plt.barh(range(len(features)), scores)\n",
    "plt.yticks(range(len(features)), features)\n",
    "plt.xlabel('SHAP Feature Importance')\n",
    "plt.title('Global Feature Importance (SHAP)')\n",
    "plt.tight_layout()\n",
    "plt.show()"
   ]
  },
  {
   "cell_type": "markdown",
   "metadata": {},
   "source": [
    "## 9. 局部解释 - 单个预测分析\n",
    "\n",
    "选择几个测试样本，分析模型对它们的预测决策过程。"
   ]
  },
  {
   "cell_type": "code",
   "execution_count": 9,
   "metadata": {},
   "outputs": [
    {
     "name": "stdout",
     "output_type": "stream",
     "text": [
      "\n",
      "==================================================\n",
      "📋 样本 #0 分析\n",
      "==================================================\n",
      "实际标签: 0\n",
      "预测标签: 0\n",
      "预测概率: [0.97 0.03]\n",
      "月收入        10689.083010\n",
      "年龄            85.894763\n",
      "工作年限          -5.955462\n",
      "负债比例           0.042451\n",
      "信用记录长度         7.938935\n",
      "历史逾期次数         8.000000\n",
      "贷款金额      678186.709835\n",
      "房产价值      898564.065892\n",
      "教育水平           6.000000\n",
      "婚姻状态          -3.000000\n",
      "Name: 521, dtype: float64\n",
      "\n",
      "📊 样本特征值:\n",
      "  申请人月收入(元): 10689.08\n",
      "  申请人年龄(岁): 85.89\n",
      "  当前工作持续时间(年): -5.96\n",
      "  月还款总额/月收入: 0.04\n",
      "  信用历史长度(年): 7.94\n",
      "  过去12个月内的逾期次数: 8.00\n",
      "  申请贷款金额(元): 678186.71\n",
      "  申请人房产估值(元): 898564.07\n",
      "  教育程度(1-高中,2-大专,3-本科,4-研究生): 6.00\n",
      "  婚姻状况(0-未婚,1-已婚): -3.00\n",
      "\n",
      "🔍 SHAP特征贡献度:\n",
      "  信用历史长度(年): 0.2022 (正向)\n",
      "  过去12个月内的逾期次数: 0.1285 (正向)\n",
      "  月还款总额/月收入: 0.0693 (正向)\n",
      "  申请贷款金额(元): 0.0551 (正向)\n",
      "  婚姻状况(0-未婚,1-已婚): 0.0492 (正向)\n",
      "  申请人年龄(岁): -0.0360 (负向)\n",
      "  申请人月收入(元): 0.0278 (正向)\n",
      "  当前工作持续时间(年): -0.0108 (负向)\n",
      "  教育程度(1-高中,2-大专,3-本科,4-研究生): 0.0044 (正向)\n",
      "  申请人房产估值(元): -0.0006 (负向)\n"
     ]
    }
   ],
   "source": [
    "# 选择要分析的样本\n",
    "sample_indices = [0]\n",
    "contributions = None\n",
    "\n",
    "for idx in sample_indices:\n",
    "    print(f\"\\n{'='*50}\")\n",
    "    print(f\"📋 样本 #{idx} 分析\")\n",
    "    print(f\"{'='*50}\")\n",
    "    \n",
    "    # 获取样本信息\n",
    "    sample = X_test.iloc[idx]\n",
    "    actual_label = y_test[idx]\n",
    "    predicted_label = model.predict([sample])[0]\n",
    "    predicted_proba = model.predict_proba([sample])[0]\n",
    "    \n",
    "    print(f\"实际标签: {actual_label}\")\n",
    "    print(f\"预测标签: {predicted_label}\")\n",
    "    print(f\"预测概率: {predicted_proba}\")\n",
    "\n",
    "    print(sample)\n",
    "    # 显示样本特征值\n",
    "    print(f\"\\n📊 样本特征值:\")\n",
    "    for feature, value in sample.items():\n",
    "        desc = feature_descriptions.get(feature, feature)\n",
    "        print(f\"  {desc}: {value:.2f}\")\n",
    "    \n",
    "    # 获取局部解释\n",
    "    local_explanation = explainer.explain_prediction(idx, X_test)\n",
    "    \n",
    "    print(f\"\\n🔍 SHAP特征贡献度:\")\n",
    "    contributions = local_explanation['feature_contributions']\n",
    "    sorted_contributions = sorted(contributions.items(), key=lambda x: abs(x[1]), reverse=True)\n",
    "    \n",
    "    for feature, contrib in sorted_contributions:\n",
    "        desc = feature_descriptions.get(feature, feature)\n",
    "        # 取第一个值来判断方向和显示\n",
    "        direction = \"正向\" if contrib > 0 else \"负向\"\n",
    "        print(f\"  {desc}: {contrib:.4f} ({direction})\")"
   ]
  },
  {
   "cell_type": "markdown",
   "metadata": {},
   "source": [
    "## 10. 自然语言解释\n",
    "\n",
    "将技术性的SHAP结果转化为业务友好的自然语言描述。"
   ]
  },
  {
   "cell_type": "code",
   "execution_count": 10,
   "metadata": {
    "scrolled": true
   },
   "outputs": [
    {
     "name": "stdout",
     "output_type": "stream",
     "text": [
      "🌍 全局特征重要性的自然语言解释:\n",
      "根据模型分析，影响预测结果的关键因素按重要性排序如下：\n",
      "\n",
      "1. **信用历史长度(年)** (重要性: 0.154)\n",
      "   - 影响程度: 决定性\n",
      "   - 该因素对模型决策起决定性作用，是最关键的判断依据\n",
      "\n",
      "2. **过去12个月内的逾期次数** (重要性: 0.095)\n",
      "   - 影响程度: 重要\n",
      "   - 该因素对模型决策有重要影响，需要重点关注\n",
      "\n",
      "3. **申请人月收入(元)** (重要性: 0.082)\n",
      "   - 影响程度: 重要\n",
      "   - 该因素对模型决策有重要影响，需要重点关注\n",
      "\n",
      "4. **婚姻状况(0-未婚,1-已婚)** (重要性: 0.075)\n",
      "   - 影响程度: 重要\n",
      "   - 该因素对模型决策有重要影响，需要重点关注\n",
      "\n",
      "5. **月还款总额/月收入** (重要性: 0.061)\n",
      "   - 影响程度: 重要\n",
      "   - 该因素对模型决策有重要影响，需要重点关注\n",
      "\n",
      "\n",
      "\n",
      "🎯 样本 #0 的自然语言解释:\n",
      "**预测结果: 拒绝/低风险** (预测值: 0.030)\n",
      "\n",
      "**决策原因: 负向贡献因素占主导**\n",
      "\n",
      "**正向影响因素 (支持通过):**\n",
      "• 信用历史长度(年): 7.938934736566366 (贡献度: +0.202)\n",
      "• 过去12个月内的逾期次数: 8.0 (贡献度: +0.128)\n",
      "• 月还款总额/月收入: 0.04245064608843685 (贡献度: +0.069)\n",
      "\n",
      "**负向影响因素 (支持拒绝):**\n",
      "• 申请人年龄(岁): 85.8947631203541 (贡献度: -0.036)\n",
      "• 当前工作持续时间(年): -5.955461984294912 (贡献度: -0.011)\n",
      "• 申请人房产估值(元): 898564.0658920073 (贡献度: -0.001)\n",
      "\n",
      "\n"
     ]
    }
   ],
   "source": [
    "# 生成全局解释的自然语言描述\n",
    "nl_global = explainer.nl_explainer.explain_global_importance(\n",
    "    global_importance, feature_descriptions\n",
    ")\n",
    "\n",
    "print(\"🌍 全局特征重要性的自然语言解释:\")\n",
    "print(nl_global)\n",
    "\n",
    "# 为第一个样本生成局部解释的自然语言描述\n",
    "local_explanation = explainer.explain_prediction(0, X_test)\n",
    "nl_local = explainer.nl_explainer.explain_local_prediction(\n",
    "    local_explanation, feature_descriptions\n",
    ")\n",
    "\n",
    "print(f\"\\n🎯 样本 #0 的自然语言解释:\")\n",
    "print(nl_local)"
   ]
  },
  {
   "cell_type": "markdown",
   "metadata": {},
   "source": [
    "## 11. 业务建议生成"
   ]
  },
  {
   "cell_type": "code",
   "execution_count": 11,
   "metadata": {},
   "outputs": [
    {
     "name": "stdout",
     "output_type": "stream",
     "text": [
      "💡 业务建议:\n",
      "## 业务优化建议\n",
      "\n",
      "### 1. 重点关注 '信用记录长度'\n",
      "该特征是模型决策的最重要因素，建议:\n",
      "- 确保该特征数据的准确性和完整性\n",
      "- 建立该特征的监控机制\n",
      "- 针对该特征制定相应的业务策略\n",
      "\n",
      "### 2. 个案处理建议\n",
      "- 在分析的 3 个样本中，有 1 个被预测为高风险\n",
      "- 建议对高风险样本进行人工复核\n",
      "- 关注负向贡献因素，制定针对性改进措施\n",
      "\n",
      "### 3. 模型监控建议\n",
      "- 定期评估模型性能，确保预测准确性\n",
      "- 监控特征分布变化，及时发现数据漂移\n",
      "- 建立模型解释结果的业务验证机制\n",
      "\n"
     ]
    }
   ],
   "source": [
    "# 生成业务建议\n",
    "local_explanations = [explainer.explain_prediction(i, X_test) for i in [0, 5, 10]]\n",
    "business_recommendations = explainer.nl_explainer.generate_business_recommendations(\n",
    "    global_importance, local_explanations\n",
    ")\n",
    "\n",
    "print(\"💡 业务建议:\")\n",
    "print(business_recommendations)"
   ]
  },
  {
   "cell_type": "code",
   "execution_count": 12,
   "metadata": {},
   "outputs": [],
   "source": [
    "# # 为第一个样本生成局部解释的自然语言描述\n",
    "# local_explanation = explainer.explain_prediction(0, X_test)\n",
    "\n",
    "# # 生成全局解释的自然语言描述\n",
    "# result = explainer.get_natural_language_explanation(global_importance, local_explanation, X_test)\n",
    "# nl_global, nl_local, nl_recommendations = result['global'], result['local'], result['recommendations']\n",
    "\n",
    "# print(\"🌍 全局特征重要性的自然语言解释:\")\n",
    "# print(nl_global)\n",
    "\n",
    "# print(f\"\\n🎯 样本 #0 的自然语言解释:\")\n",
    "# print(nl_local)\n",
    "\n",
    "# print(\"💡 业务建议:\")\n",
    "# print(nl_recommendations)\n"
   ]
  },
  {
   "cell_type": "markdown",
   "metadata": {},
   "source": [
    "## 12. 生成完整的HTML报告\n",
    "\n",
    "将所有分析结果整合成一个专业的HTML报告。"
   ]
  },
  {
   "cell_type": "code",
   "execution_count": 13,
   "metadata": {},
   "outputs": [
    {
     "name": "stdout",
     "output_type": "stream",
     "text": [
      "创建waterfall图时出错: only length-1 arrays can be converted to Python scalars\n",
      "创建waterfall图时出错: only length-1 arrays can be converted to Python scalars\n",
      "创建waterfall图时出错: only length-1 arrays can be converted to Python scalars\n",
      "✅ 报告生成成功！\n",
      "报告路径: reports/credit_scoring/credit_scoring_explanation.html\n",
      "\n",
      "你可以在浏览器中打开这个HTML文件查看完整的可解释性报告。\n"
     ]
    },
    {
     "name": "stderr",
     "output_type": "stream",
     "text": [
      "Traceback (most recent call last):\n",
      "  File \"/Users/jiahaoluo/Desktop/SHOW-ME-THE-CODE/clarify-ai/src/core/shap_explainer.py\", line 264, in create_waterfall_plot\n",
      "    base_value = float(self.explainer.expected_value)\n",
      "TypeError: only length-1 arrays can be converted to Python scalars\n",
      "Traceback (most recent call last):\n",
      "  File \"/Users/jiahaoluo/Desktop/SHOW-ME-THE-CODE/clarify-ai/src/core/shap_explainer.py\", line 264, in create_waterfall_plot\n",
      "    base_value = float(self.explainer.expected_value)\n",
      "TypeError: only length-1 arrays can be converted to Python scalars\n",
      "Traceback (most recent call last):\n",
      "  File \"/Users/jiahaoluo/Desktop/SHOW-ME-THE-CODE/clarify-ai/src/core/shap_explainer.py\", line 264, in create_waterfall_plot\n",
      "    base_value = float(self.explainer.expected_value)\n",
      "TypeError: only length-1 arrays can be converted to Python scalars\n"
     ]
    },
    {
     "data": {
      "text/plain": [
       "<Figure size 1200x800 with 0 Axes>"
      ]
     },
     "metadata": {},
     "output_type": "display_data"
    },
    {
     "data": {
      "text/plain": [
       "<Figure size 1200x800 with 0 Axes>"
      ]
     },
     "metadata": {},
     "output_type": "display_data"
    },
    {
     "data": {
      "text/plain": [
       "<Figure size 1200x800 with 0 Axes>"
      ]
     },
     "metadata": {},
     "output_type": "display_data"
    }
   ],
   "source": [
    "# 生成完整报告\n",
    "report_path = explainer.generate_report(\n",
    "    X_test=X_test,\n",
    "    instances_to_explain=[0, 5, 10],  # 解释前3个测试样本\n",
    "    model_type=\"随机森林分类器 (信贷评分)\",\n",
    "    report_name=\"credit_scoring_explanation\"\n",
    ")\n",
    "\n",
    "print(f\"✅ 报告生成成功！\")\n",
    "print(f\"报告路径: {report_path}\")\n",
    "print(f\"\\n你可以在浏览器中打开这个HTML文件查看完整的可解释性报告。\")"
   ]
  },
  {
   "cell_type": "markdown",
   "metadata": {},
   "source": [
    "## 13. 模型性能总结"
   ]
  },
  {
   "cell_type": "code",
   "execution_count": null,
   "metadata": {},
   "outputs": [],
   "source": [
    "from sklearn.metrics import classification_report, confusion_matrix\n",
    "\n",
    "# 预测测试集\n",
    "y_pred = model.predict(X_test)\n",
    "\n",
    "print(\"📈 模型性能总结:\")\n",
    "print(f\"测试集准确率: {test_score:.3f}\")\n",
    "print(f\"\\n分类报告:\")\n",
    "print(classification_report(y_test, y_pred))\n",
    "\n",
    "print(f\"\\n混淆矩阵:\")\n",
    "print(confusion_matrix(y_test, y_pred))\n",
    "\n",
    "# 可视化混淆矩阵\n",
    "import seaborn as sns\n",
    "plt.figure(figsize=(8, 6))\n",
    "cm = confusion_matrix(y_test, y_pred)\n",
    "sns.heatmap(cm, annot=True, fmt='d', cmap='Blues')\n",
    "plt.title('Confusion Matrix')\n",
    "plt.ylabel('Actual')\n",
    "plt.xlabel('Predicted')\n",
    "plt.show()"
   ]
  },
  {
   "cell_type": "markdown",
   "metadata": {},
   "source": [
    "## 14. 总结\n",
    "\n",
    "通过这个演示，我们展示了Clarify AI的核心功能：\n",
    "\n",
    "1. **数据准备**: 创建了一个模拟的信贷评分数据集\n",
    "2. **模型训练**: 使用随机森林训练了一个分类器\n",
    "3. **全局解释**: 使用SHAP分析了整体特征重要性\n",
    "4. **局部解释**: 分析了单个预测的决策过程\n",
    "5. **自然语言解释**: 将技术结果转化为业务友好的描述\n",
    "6. **报告生成**: 创建了专业的HTML解释报告\n",
    "\n",
    "### 主要优势:\n",
    "- **业务友好**: 非技术人员也能理解模型决策\n",
    "- **全面解释**: 从全局到局部的多层次分析\n",
    "- **可视化报告**: 直观的图表和解释\n",
    "- **易于集成**: 简单的API，支持各种ML模型\n",
    "\n",
    "### 应用场景:\n",
    "- 金融风控模型解释\n",
    "- 医疗诊断AI解释\n",
    "- 客户行为预测解释\n",
    "- 监管合规要求"
   ]
  },
  {
   "cell_type": "code",
   "execution_count": null,
   "metadata": {},
   "outputs": [],
   "source": []
  },
  {
   "cell_type": "code",
   "execution_count": 20,
   "metadata": {},
   "outputs": [],
   "source": [
    "instance_idx = 0\n",
    "# explainer.shap_explainer.create_waterfall_plot(instance_idx, X_test, local_chart_path)"
   ]
  },
  {
   "cell_type": "code",
   "execution_count": 24,
   "metadata": {},
   "outputs": [
    {
     "data": {
      "text/plain": [
       "array([ 0.027823  , -0.03598526, -0.01079902,  0.06927112,  0.20222127,\n",
       "        0.12846251,  0.05513558, -0.00056125,  0.00441145,  0.04918308])"
      ]
     },
     "execution_count": 24,
     "metadata": {},
     "output_type": "execute_result"
    }
   ],
   "source": [
    "instance_shap = explainer.shap_explainer.shap_values[instance_idx, :, 0]\n",
    "instance_shap = np.array(instance_shap).flatten()\n",
    "instance_shap"
   ]
  },
  {
   "cell_type": "code",
   "execution_count": 27,
   "metadata": {},
   "outputs": [
    {
     "data": {
      "text/plain": [
       "10"
      ]
     },
     "execution_count": 27,
     "metadata": {},
     "output_type": "execute_result"
    }
   ],
   "source": [
    "len(instance_shap)"
   ]
  },
  {
   "cell_type": "code",
   "execution_count": 26,
   "metadata": {},
   "outputs": [
    {
     "data": {
      "text/plain": [
       "10"
      ]
     },
     "execution_count": 26,
     "metadata": {},
     "output_type": "execute_result"
    }
   ],
   "source": [
    "len(explainer.shap_explainer.feature_names)"
   ]
  },
  {
   "cell_type": "code",
   "execution_count": null,
   "metadata": {},
   "outputs": [],
   "source": []
  }
 ],
 "metadata": {
  "kernelspec": {
   "display_name": "Python 3 (ipykernel)",
   "language": "python",
   "name": "python3"
  },
  "language_info": {
   "codemirror_mode": {
    "name": "ipython",
    "version": 3
   },
   "file_extension": ".py",
   "mimetype": "text/x-python",
   "name": "python",
   "nbconvert_exporter": "python",
   "pygments_lexer": "ipython3",
   "version": "3.13.2"
  }
 },
 "nbformat": 4,
 "nbformat_minor": 4
}
